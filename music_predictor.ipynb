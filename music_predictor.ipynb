{
 "cells": [
  {
   "cell_type": "code",
   "execution_count": 41,
   "id": "81d3c852",
   "metadata": {},
   "outputs": [],
   "source": [
    "import pandas as pd\n",
    "from sklearn.tree import DecisionTreeClassifier\n",
    "import joblib\n",
    "from sklearn import tree\n",
    "\n",
    "# Reading the training data set\n",
    "music_data = pd.read_csv('music.csv')"
   ]
  },
  {
   "cell_type": "code",
   "execution_count": 42,
   "id": "14e647b3",
   "metadata": {},
   "outputs": [
    {
     "data": {
      "text/plain": [
       "['music_predictor.joblib']"
      ]
     },
     "execution_count": 42,
     "metadata": {},
     "output_type": "execute_result"
    }
   ],
   "source": [
    "# Segregating the Inputs & Ouputs to feed it in an algorithm\n",
    "X = music_data.drop(columns=['genre'])\n",
    "y = music_data['genre']\n",
    "\n",
    "model = DecisionTreeClassifier()\n",
    "model.fit(X, y)\n",
    "\n",
    "joblib.dump(model, \"music_predictor.joblib\")"
   ]
  },
  {
   "cell_type": "code",
   "execution_count": 43,
   "id": "0ddaacee",
   "metadata": {},
   "outputs": [],
   "source": [
    "tree.export_graphviz(\n",
    "    model, \n",
    "    out_file=\"music_predictor.dot\", \n",
    "    feature_names=['age', 'gender'], \n",
    "    class_names=sorted(y.unique()),\n",
    "    label='all',\n",
    "    rounded=True,\n",
    "    filled=True\n",
    ")"
   ]
  },
  {
   "cell_type": "code",
   "execution_count": null,
   "id": "79261bdc",
   "metadata": {},
   "outputs": [],
   "source": []
  }
 ],
 "metadata": {
  "kernelspec": {
   "display_name": "Python 3 (ipykernel)",
   "language": "python",
   "name": "python3"
  },
  "language_info": {
   "codemirror_mode": {
    "name": "ipython",
    "version": 3
   },
   "file_extension": ".py",
   "mimetype": "text/x-python",
   "name": "python",
   "nbconvert_exporter": "python",
   "pygments_lexer": "ipython3",
   "version": "3.10.6"
  }
 },
 "nbformat": 4,
 "nbformat_minor": 5
}
